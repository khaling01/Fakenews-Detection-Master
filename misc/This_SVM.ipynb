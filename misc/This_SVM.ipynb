{
  "cells": [
    {
      "cell_type": "markdown",
      "metadata": {
        "colab_type": "text",
        "id": "view-in-github"
      },
      "source": [
        "<a href=\"https://colab.research.google.com/github/iamrosan/Fake-News-Detection-BCT-Mini-Project-/blob/master/This_SVM.ipynb\" target=\"_parent\"><img src=\"https://colab.research.google.com/assets/colab-badge.svg\" alt=\"Open In Colab\"/></a>"
      ]
    },
    {
      "cell_type": "code",
      "execution_count": 1,
      "metadata": {
        "id": "w5RnvDzFO3pC"
      },
      "outputs": [],
      "source": [
        "import numpy as np\n",
        "import pandas as pd\n",
        "from sklearn import svm \n",
        "from sklearn.model_selection import train_test_split\n",
        "from sklearn.feature_extraction.text import TfidfVectorizer\n",
        "# import matplotlib.pyplot as plt"
      ]
    },
    {
      "cell_type": "code",
      "execution_count": 2,
      "metadata": {
        "id": "BE4hzuFNPwbz"
      },
      "outputs": [],
      "source": [
        "#Importing dataset\n",
        "true_data = pd.read_csv('E:\\RB\\Fake-News-Detection-BCT-Mini-Project-\\FakeNewsDetection\\processedTrue.csv')\n",
        "fake_data = pd.read_csv('E:\\RB\\Fake-News-Detection-BCT-Mini-Project-\\FakeNewsDetection\\processedFake.csv')"
      ]
    },
    {
      "cell_type": "code",
      "execution_count": 3,
      "metadata": {
        "colab": {
          "base_uri": "https://localhost:8080/",
          "height": 206
        },
        "id": "KvUfwX2_QGmC",
        "outputId": "caefcc07-2ddf-4194-c2db-3036f7672b47"
      },
      "outputs": [
        {
          "data": {
            "text/html": [
              "<div>\n",
              "<style scoped>\n",
              "    .dataframe tbody tr th:only-of-type {\n",
              "        vertical-align: middle;\n",
              "    }\n",
              "\n",
              "    .dataframe tbody tr th {\n",
              "        vertical-align: top;\n",
              "    }\n",
              "\n",
              "    .dataframe thead th {\n",
              "        text-align: right;\n",
              "    }\n",
              "</style>\n",
              "<table border=\"1\" class=\"dataframe\">\n",
              "  <thead>\n",
              "    <tr style=\"text-align: right;\">\n",
              "      <th></th>\n",
              "      <th>index</th>\n",
              "      <th>label</th>\n",
              "      <th>content</th>\n",
              "    </tr>\n",
              "  </thead>\n",
              "  <tbody>\n",
              "    <tr>\n",
              "      <th>0</th>\n",
              "      <td>0</td>\n",
              "      <td>0</td>\n",
              "      <td>u budget fight loom republicans flip fiscal sc...</td>\n",
              "    </tr>\n",
              "    <tr>\n",
              "      <th>1</th>\n",
              "      <td>1</td>\n",
              "      <td>0</td>\n",
              "      <td>u military accept transgender recruit monday p...</td>\n",
              "    </tr>\n",
              "    <tr>\n",
              "      <th>2</th>\n",
              "      <td>2</td>\n",
              "      <td>0</td>\n",
              "      <td>senior u republican senator let mr mueller job...</td>\n",
              "    </tr>\n",
              "    <tr>\n",
              "      <th>3</th>\n",
              "      <td>3</td>\n",
              "      <td>0</td>\n",
              "      <td>fbi russia probe help australian diplomat tip ...</td>\n",
              "    </tr>\n",
              "    <tr>\n",
              "      <th>4</th>\n",
              "      <td>4</td>\n",
              "      <td>0</td>\n",
              "      <td>trump want postal service charge much amazon s...</td>\n",
              "    </tr>\n",
              "  </tbody>\n",
              "</table>\n",
              "</div>"
            ],
            "text/plain": [
              "   index  label                                            content\n",
              "0      0      0  u budget fight loom republicans flip fiscal sc...\n",
              "1      1      0  u military accept transgender recruit monday p...\n",
              "2      2      0  senior u republican senator let mr mueller job...\n",
              "3      3      0  fbi russia probe help australian diplomat tip ...\n",
              "4      4      0  trump want postal service charge much amazon s..."
            ]
          },
          "execution_count": 3,
          "metadata": {},
          "output_type": "execute_result"
        }
      ],
      "source": [
        "data = pd.concat( [true_data, fake_data], ignore_index=True, sort=False)\n",
        "\n",
        "# Naming Unnamed:0 as index\n",
        "data.columns = ['index', 'label', 'content']\n",
        "data.head()"
      ]
    },
    {
      "cell_type": "code",
      "execution_count": 20,
      "metadata": {},
      "outputs": [
        {
          "data": {
            "text/plain": [
              "pandas.core.frame.DataFrame"
            ]
          },
          "execution_count": 20,
          "metadata": {},
          "output_type": "execute_result"
        }
      ],
      "source": [
        "type(data)"
      ]
    },
    {
      "cell_type": "code",
      "execution_count": 5,
      "metadata": {
        "colab": {
          "base_uri": "https://localhost:8080/"
        },
        "id": "n2zw-8WJ6MR0",
        "outputId": "dd55b498-bf27-4015-9f7c-259f8844372f"
      },
      "outputs": [
        {
          "name": "stdout",
          "output_type": "stream",
          "text": [
            "u budget fight loom republicans flip fiscal script washington reuters head conservative republican faction u congress vote month huge expansion national debt pay tax cut call fiscal conservative sunday urge budget restraint keep sharp pivot way among republicans u representative mark meadows speak cbs face nation draw hard line federal spend lawmakers brace battle january return holiday wednesday lawmakers begin try pass federal budget fight likely link issue immigration policy even november congressional election campaign approach republicans seek keep control congress president donald trump republicans want big budget increase military spend democrats also want proportional increase non defense discretionary spend program support education scientific research infrastructure public health environmental protection trump administration already will say go increase non defense discretionary spend percent meadows chairman small influential house freedom caucus say program democrats say enough need give government pay raise percent fiscal conservative see rationale eventually run people money say meadows among republicans vote late december party debt finance tax overhaul expect balloon federal budget deficit add trillion years trillion national debt interest hear mark talk fiscal responsibility democratic u representative joseph crowley say cbs crowley say republican tax bill would require unite state borrow trillion pay future generations finance tax cut corporations rich one least fiscally responsible bill ever see pass history house representatives think go pay many many years come crowley say republicans insist tax package biggest u tax overhaul years boost economy job growth house speaker paul ryan also support tax bill recently go meadows make clear radio interview welfare entitlement reform party often call would top republican priority republican parlance entitlement program mean food stamp house assistance medicare medicaid health insurance elderly poor disable well program create washington assist needy democrats seize ryan early december remark say show republicans would try pay tax overhaul seek spend cut social program goals house republicans may take back seat senate vote democrats need approve budget prevent government shutdown democrats use leverage senate republicans narrowly control defend discretionary non defense program social spend tackle issue dreamers people bring illegally country children trump september put march expiration date defer action childhood arrivals daca program protect young immigrants deportation provide work permit president say recent twitter message want fund propose mexican border wall immigration law change exchange agree help dreamers representative debbie dingell tell cbs favor link issue policy objectives wall fund need daca clean say wednesday trump aid meet congressional leaders discuss issue follow weekend strategy sessions trump republican leaders jan white house say trump also schedule meet sunday florida republican governor rick scott want emergency aid house pass billion aid package hurricanes florida texas puerto rico wildfires california package far exceed billion request trump administration senate yet vote aid\n"
          ]
        }
      ],
      "source": [
        "print(data['content'][0])"
      ]
    },
    {
      "cell_type": "code",
      "execution_count": null,
      "metadata": {
        "colab": {
          "base_uri": "https://localhost:8080/"
        },
        "id": "JIoJM1P06aQd",
        "outputId": "80fb16ba-6ecf-4d9d-d3ac-c4bf02c18125"
      },
      "outputs": [
        {
          "name": "stdout",
          "output_type": "stream",
          "text": [
            "0\n"
          ]
        }
      ],
      "source": [
        "print(data['label'][0])"
      ]
    },
    {
      "cell_type": "code",
      "execution_count": 4,
      "metadata": {
        "colab": {
          "base_uri": "https://localhost:8080/"
        },
        "id": "fi2C-SMCRMpj",
        "outputId": "4545df7d-6667-4fc6-e706-185f34080ba9"
      },
      "outputs": [
        {
          "data": {
            "text/plain": [
              "index      0\n",
              "label      0\n",
              "content    0\n",
              "dtype: int64"
            ]
          },
          "execution_count": 4,
          "metadata": {},
          "output_type": "execute_result"
        }
      ],
      "source": [
        "# Checking if the dataset cotains null value or not\n",
        "data.isnull().sum()"
      ]
    },
    {
      "cell_type": "markdown",
      "metadata": {
        "id": "wI8Eoa6PTB6q"
      },
      "source": [
        "Creating the SVM MODEL"
      ]
    },
    {
      "cell_type": "code",
      "execution_count": 4,
      "metadata": {
        "id": "pxBa8vviRhJv"
      },
      "outputs": [],
      "source": [
        "X = data['content']\n",
        "y = data['label']\n"
      ]
    },
    {
      "cell_type": "code",
      "execution_count": 5,
      "metadata": {
        "id": "F6GUsf7wmDEd"
      },
      "outputs": [],
      "source": [
        "X_train, X_test, y_train, y_test = train_test_split(X, y, test_size=0.1, shuffle=True, random_state=1)"
      ]
    },
    {
      "cell_type": "code",
      "execution_count": 22,
      "metadata": {},
      "outputs": [
        {
          "data": {
            "text/plain": [
              "39561    1\n",
              "22352    1\n",
              "29430    1\n",
              "35166    1\n",
              "33072    1\n",
              "21756    1\n",
              "5490     0\n",
              "37833    1\n",
              "40462    1\n",
              "18045    0\n",
              "Name: label, dtype: int64"
            ]
          },
          "execution_count": 22,
          "metadata": {},
          "output_type": "execute_result"
        }
      ],
      "source": [
        "y_test[:10]"
      ]
    },
    {
      "cell_type": "code",
      "execution_count": 9,
      "metadata": {},
      "outputs": [
        {
          "name": "stdout",
          "output_type": "stream",
          "text": [
            "women march desert israeli palestinian peace jordan river west bank reuters thousands israeli palestinian women trek biblical desert landscape sunday converge shore jordan river march peace women many dress white descend arid hill lead river erect peace tent name hagar sarah scriptural mother ishmael isaac half brother patriarchs muslims jews women right leave jews arabs cities periphery decide stop next war say marilyn smadja one founder organize group women wage peace organization establish day gaza war palestinians mostly civilians kill israel put number dead soldier six civilians women participate sunday march organizers say begin last month several locations across israel culminate rally later day outside jerusalem residence prime minister benjamin netanyahu\n",
            "0\n"
          ]
        }
      ],
      "source": [
        "print(X_test[18045])\n",
        "print(y_test[18045])"
      ]
    },
    {
      "cell_type": "code",
      "execution_count": 8,
      "metadata": {
        "id": "QhjOqFhp63at"
      },
      "outputs": [],
      "source": [
        "import pickle\n",
        "\n",
        "with open('E:\\RB\\Fake-News-Detection-BCT-Mini-Project-\\FakeNewsDetection\\model.pkl', 'rb') as file:\n",
        "  SVM_Model = pickle.load(file)"
      ]
    },
    {
      "cell_type": "code",
      "execution_count": 22,
      "metadata": {
        "colab": {
          "base_uri": "https://localhost:8080/"
        },
        "id": "dhpOexh0lKJn",
        "outputId": "0bd73518-bf4d-465d-9397-7c5a36c9d5a7"
      },
      "outputs": [
        {
          "data": {
            "text/plain": [
              "scipy.sparse.csr.csr_matrix"
            ]
          },
          "execution_count": 22,
          "metadata": {},
          "output_type": "execute_result"
        }
      ],
      "source": [
        "type(X_train)"
      ]
    },
    {
      "cell_type": "code",
      "execution_count": 9,
      "metadata": {
        "id": "ioDFftDTQqyL"
      },
      "outputs": [],
      "source": [
        "#Using Vectorizer\n",
        "\n",
        "tfidf_vectorizer=TfidfVectorizer(stop_words='english', max_df=0.7)\n",
        "X_train=tfidf_vectorizer.fit_transform(X_train) \n",
        "X_test=tfidf_vectorizer.transform(X_test)"
      ]
    },
    {
      "cell_type": "markdown",
      "metadata": {
        "id": "AcOQDhX4UDVT"
      },
      "source": [
        "Classifier | Support Vector Classifier"
      ]
    },
    {
      "cell_type": "code",
      "execution_count": null,
      "metadata": {
        "colab": {
          "base_uri": "https://localhost:8080/"
        },
        "id": "BwoeNs71TK_4",
        "outputId": "5f197907-ddc8-4eb8-b2ec-ec1fba5a5f18"
      },
      "outputs": [
        {
          "data": {
            "text/plain": [
              "SVC(C=100, kernel='linear')"
            ]
          },
          "execution_count": 8,
          "metadata": {},
          "output_type": "execute_result"
        }
      ],
      "source": [
        "# SVM_Model = svm.SVC(C=100, kernel='linear')\n",
        "# SVM_Model.fit(X_train, y_train)"
      ]
    },
    {
      "cell_type": "code",
      "execution_count": null,
      "metadata": {
        "id": "fIT4geOywh2e"
      },
      "outputs": [],
      "source": [
        "# # For saving the trained model\n",
        "# import pickle\n",
        "\n",
        "# with open('model.pkl', 'wb') as file:\n",
        "#   pickle.dump(SVM_Model, file)"
      ]
    },
    {
      "cell_type": "code",
      "execution_count": 10,
      "metadata": {
        "id": "G0ZsH0LZn3OK"
      },
      "outputs": [],
      "source": [
        "predict = SVM_Model.predict(X_test)"
      ]
    },
    {
      "cell_type": "code",
      "execution_count": 57,
      "metadata": {
        "colab": {
          "base_uri": "https://localhost:8080/"
        },
        "id": "EZoMIeApi5tu",
        "outputId": "20e7c0ad-04b5-44aa-c74b-f800fa891056"
      },
      "outputs": [
        {
          "data": {
            "text/plain": [
              "scipy.sparse.csr.csr_matrix"
            ]
          },
          "execution_count": 57,
          "metadata": {},
          "output_type": "execute_result"
        }
      ],
      "source": [
        "type(X_train)"
      ]
    },
    {
      "cell_type": "code",
      "execution_count": null,
      "metadata": {
        "colab": {
          "base_uri": "https://localhost:8080/"
        },
        "id": "8s1RAiEsxH24",
        "outputId": "5b7ebb5f-f8b9-4473-b8c1-ac5081ef2483"
      },
      "outputs": [
        {
          "name": "stdout",
          "output_type": "stream",
          "text": [
            "Accuracy - : 0.999\n"
          ]
        }
      ],
      "source": [
        "print (f'Accuracy - : {SVM_Model.score(X_train, y_train):.3f}')"
      ]
    },
    {
      "cell_type": "code",
      "execution_count": null,
      "metadata": {
        "colab": {
          "base_uri": "https://localhost:8080/"
        },
        "id": "U5SWZO2dy9GZ",
        "outputId": "79baf59d-6cd2-4aa4-ca0e-26617c23f0fb"
      },
      "outputs": [
        {
          "name": "stdout",
          "output_type": "stream",
          "text": [
            "Accuracy - : 0.995\n"
          ]
        }
      ],
      "source": [
        "# print (f'Accuracy - : {SVM_Model.score(X_test, y_test):.3f}')"
      ]
    },
    {
      "cell_type": "code",
      "execution_count": null,
      "metadata": {
        "id": "wZoEcxgf74BE"
      },
      "outputs": [],
      "source": [
        "from sklearn.metrics import classification_report\n",
        "from sklearn.metrics import accuracy_score, confusion_matrix"
      ]
    },
    {
      "cell_type": "code",
      "execution_count": null,
      "metadata": {
        "colab": {
          "base_uri": "https://localhost:8080/"
        },
        "id": "EZP6aDYZ3Kls",
        "outputId": "0b42af3b-fc69-4216-eac9-d4922a23346f"
      },
      "outputs": [
        {
          "data": {
            "text/plain": [
              "array([[2375,   16],\n",
              "       [   8, 2089]])"
            ]
          },
          "execution_count": 16,
          "metadata": {},
          "output_type": "execute_result"
        }
      ],
      "source": [
        "#DataFlair - Build confusion matrix\n",
        "confusion_matrix(y_test,predict, labels=[1,0])"
      ]
    },
    {
      "cell_type": "code",
      "execution_count": null,
      "metadata": {
        "colab": {
          "base_uri": "https://localhost:8080/"
        },
        "id": "A7GUbWeq7vNf",
        "outputId": "aee1a026-5719-436d-a155-934acce530bb"
      },
      "outputs": [
        {
          "name": "stdout",
          "output_type": "stream",
          "text": [
            "\n",
            " clasification report:\n",
            "               precision    recall  f1-score   support\n",
            "\n",
            "           0       0.99      1.00      0.99      2097\n",
            "           1       1.00      0.99      0.99      2391\n",
            "\n",
            "    accuracy                           0.99      4488\n",
            "   macro avg       0.99      0.99      0.99      4488\n",
            "weighted avg       0.99      0.99      0.99      4488\n",
            "\n"
          ]
        }
      ],
      "source": [
        "print('\\n clasification report:\\n',classification_report(y_test,predict))"
      ]
    },
    {
      "cell_type": "markdown",
      "metadata": {
        "id": "G6h2nP4Y8WTM"
      },
      "source": [
        "For Real World News"
      ]
    },
    {
      "cell_type": "code",
      "execution_count": 39,
      "metadata": {
        "id": "nrYyS7rs8V4Y"
      },
      "outputs": [],
      "source": [
        "News = ['budget fight loom reuters head flip fiscal script conservative republican faction u congress republicans washington']"
      ]
    },
    {
      "cell_type": "code",
      "execution_count": 40,
      "metadata": {},
      "outputs": [
        {
          "data": {
            "text/plain": [
              "list"
            ]
          },
          "execution_count": 40,
          "metadata": {},
          "output_type": "execute_result"
        }
      ],
      "source": [
        "type(News)"
      ]
    },
    {
      "cell_type": "code",
      "execution_count": 31,
      "metadata": {
        "id": "_dauwGKX9A0a"
      },
      "outputs": [],
      "source": [
        "News = tfidf_vectorizer.transform(News)"
      ]
    },
    {
      "cell_type": "code",
      "execution_count": 32,
      "metadata": {
        "colab": {
          "base_uri": "https://localhost:8080/"
        },
        "id": "fmyECEz_fz-j",
        "outputId": "d20706ac-8aa2-44a3-98ff-be58cbef0ef0"
      },
      "outputs": [
        {
          "name": "stdout",
          "output_type": "stream",
          "text": [
            "  (0, 86038)\t0.14671202697216362\n",
            "  (0, 70466)\t0.3719378618395119\n",
            "  (0, 66801)\t0.11011377976343895\n",
            "  (0, 66430)\t0.1863456229278861\n",
            "  (0, 66426)\t0.1497062005819619\n",
            "  (0, 46196)\t0.38361162037161234\n",
            "  (0, 33348)\t0.19297310704801876\n",
            "  (0, 27398)\t0.36573036876236714\n",
            "  (0, 27127)\t0.30661832476567535\n",
            "  (0, 26860)\t0.19275821269812748\n",
            "  (0, 25723)\t0.4140317420632541\n",
            "  (0, 16134)\t0.21478688526036646\n",
            "  (0, 16017)\t0.19421689648140383\n",
            "  (0, 10637)\t0.2574383613582437\n"
          ]
        }
      ],
      "source": [
        "print(News)"
      ]
    },
    {
      "cell_type": "code",
      "execution_count": 33,
      "metadata": {
        "id": "Gg1gZQhV9EYF"
      },
      "outputs": [],
      "source": [
        "PREDICT = SVM_Model.predict(News)"
      ]
    },
    {
      "cell_type": "code",
      "execution_count": 34,
      "metadata": {},
      "outputs": [
        {
          "data": {
            "text/plain": [
              "numpy.ndarray"
            ]
          },
          "execution_count": 34,
          "metadata": {},
          "output_type": "execute_result"
        }
      ],
      "source": [
        "type(PREDICT)"
      ]
    },
    {
      "cell_type": "code",
      "execution_count": 35,
      "metadata": {
        "colab": {
          "base_uri": "https://localhost:8080/"
        },
        "id": "zFfYII7v97eh",
        "outputId": "7921ef87-3946-4f29-aae1-a74ff3c4c38f"
      },
      "outputs": [
        {
          "name": "stdout",
          "output_type": "stream",
          "text": [
            "THE NEWS IS REAL\n"
          ]
        }
      ],
      "source": [
        "if PREDICT == 1:\n",
        "  print('THE NEWS IS FAKE')\n",
        "else:\n",
        "  print('THE NEWS IS REAL')"
      ]
    },
    {
      "cell_type": "code",
      "execution_count": 27,
      "metadata": {
        "colab": {
          "base_uri": "https://localhost:8080/",
          "height": 130
        },
        "id": "zVnpbEPN3dbh",
        "outputId": "3c948901-6e66-4b8f-a67c-b433382f488b"
      },
      "outputs": [
        {
          "ename": "SyntaxError",
          "evalue": "invalid syntax. Perhaps you forgot a comma? (3509186274.py, line 8)",
          "output_type": "error",
          "traceback": [
            "\u001b[1;36m  Input \u001b[1;32mIn [27]\u001b[1;36m\u001b[0m\n\u001b[1;33m    plt.scatter(X_train[:, 0], X_train[:, 1], marker='o' c=y_train, s=100, color='purple',alpha=0.75)\u001b[0m\n\u001b[1;37m                                                     ^\u001b[0m\n\u001b[1;31mSyntaxError\u001b[0m\u001b[1;31m:\u001b[0m invalid syntax. Perhaps you forgot a comma?\n"
          ]
        }
      ],
      "source": [
        "# Visualising the Test set results\n",
        "def get_hyperplane(x, w, b, offset):\n",
        "  return (-w[0] * x - b + offset) / w[1]\n",
        "\n",
        "fig, ax = plt.subplots(1, 1, figsize=(10,6))\n",
        "\n",
        "plt.set_cmap('PiYG')\n",
        "plt.scatter(X_train[:, 0], X_train[:, 1], marker='o' c=y_train, s=100, color='purple',alpha=0.75)\n",
        "plt.scatter(X_test[:, 0], X_test[:, 1], marker=\"x\", c=y_test, s=100, alpha=0.75)\n",
        "\n",
        "x0_1 = np.amin(X_train[:, 0])\n",
        "x0_2 = np.amax(X_train[:, 0])\n",
        "\n",
        "x1_1 = get_hyperplane(x0_1, SVM_Model.w, SVM_Model.b, 0)\n",
        "x1_2 = get_hyperplane(x0_2, SVM_Model.w, SVM_Model.b, 0)\n",
        "\n",
        "x1_1_m = get_hyperplane(x0_1, SVM_Model.w, SVM_Model.b, -1)\n",
        "x1_2_m = get_hyperplane(x0_2, SVM_Model.w, SVM_Model.b, -1)\n",
        "\n",
        "x1_1_p = get_hyperplane(x0_1, SVM_Model.w, SVM_Model.b, 1)\n",
        "x1_2_p = get_hyperplane(x0_2, SVM_Model.w, SVM_Model.b, 1)\n",
        "\n",
        "ax.plot([x0_1, x0_2], [x1_1, x1_2], \"-\", c='k', lw=1, alpha=0.9)\n",
        "ax.plot([x0_1, x0_2], [x1_1_m, x1_2_m], \"--\", c='grey', lw=1, alpha=0.8)\n",
        "ax.plot([x0_1, x0_2], [x1_1_p, x1_2_p], \"--\", c='grey', lw=1, alpha=0.8)\n",
        "\n",
        "x1_min = np.amin(X[:, 1])\n",
        "x1_max = np.amax(X[:, 1])\n",
        "ax.set_ylim([x1_min - 3, x1_max + 3])\n",
        "\n",
        "for spine in ['top','right']:\n",
        "  ax.spines[spine].set_visible(False)\n",
        "\n",
        "plt.show()"
      ]
    }
  ],
  "metadata": {
    "colab": {
      "authorship_tag": "ABX9TyOszVu351mBS/Pex7pR5s3b",
      "collapsed_sections": [],
      "include_colab_link": true,
      "mount_file_id": "1xobqOB710NCI0rFTgJXEVwtWlAHDe73Z",
      "name": "This_SVM.ipynb",
      "provenance": []
    },
    "kernelspec": {
      "display_name": "Python 3",
      "name": "python3"
    },
    "language_info": {
      "codemirror_mode": {
        "name": "ipython",
        "version": 3
      },
      "file_extension": ".py",
      "mimetype": "text/x-python",
      "name": "python",
      "nbconvert_exporter": "python",
      "pygments_lexer": "ipython3",
      "version": "3.10.0"
    }
  },
  "nbformat": 4,
  "nbformat_minor": 0
}
